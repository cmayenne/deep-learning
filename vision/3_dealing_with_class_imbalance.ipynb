{
 "cells": [
  {
   "cell_type": "markdown",
   "id": "d7dc891b",
   "metadata": {},
   "source": [
    "# Session 2 Part 1: Going Further, Discovering class-imbalance in datasets\n",
    "\n",
    "<a rel=\"license\" href=\"http://creativecommons.org/licenses/by-nc-sa/4.0/\"><img alt=\"Creative Commons License\" align=\"left\" src=\"https://i.creativecommons.org/l/by-nc-sa/4.0/80x15.png\" /></a>&nbsp;| Florient Chouteau | <a href=\"https://supaerodatascience.github.io/deep-learning/\">https://supaerodatascience.github.io/deep-learning/</a>\n",
    "\n",
    "Since we have done the most basic training example, got our hands on skorch and on the dataset, we are going to repeat our process using a more realistic use case. This time, our dataset will be severely unbalanced (10% of all data will be images of aircrafts), like in real life (or not even like in real life but it's getting closer).\n",
    "\n",
    "Here, we won't guide you, you will have to use what you learned in the previous notebooks as well as what you learned in previous data science class to try to devise a way to train a good model\n",
    "\n",
    "You are going to:\n",
    "- Do a first \"naive\" run with the full data\n",
    "- Diagnose performance\n",
    "- Try to improve it by tuning several factors:\n",
    "  - The dataset itself\n",
    "  - The optimization parameters\n",
    "  - The network architecture\n",
    "\n",
    "**Remember that \"deep learning\" is still considered somewhat a black art so it's hard to know in advance what will work.**\n"
   ]
  },
  {
   "cell_type": "code",
   "execution_count": 1,
   "id": "1dba23d9",
   "metadata": {},
   "outputs": [
    {
     "name": "stderr",
     "output_type": "stream",
     "text": [
      "/home/charles-alexis/.local/lib/python3.8/site-packages/torchvision/io/image.py:13: UserWarning: Failed to load image Python extension: libtorch_cuda_cu.so: cannot open shared object file: No such file or directory\n",
      "  warn(f\"Failed to load image Python extension: {e}\")\n"
     ]
    }
   ],
   "source": [
    "# Put your imports here\n",
    "import numpy as np\n",
    "\n",
    "import random\n",
    "import time\n",
    "\n",
    "import cv2\n",
    "from matplotlib import pyplot as plt\n",
    "from torch import nn\n",
    "import torchvision\n",
    "from torchvision import transforms"
   ]
  },
  {
   "cell_type": "code",
   "execution_count": 2,
   "id": "2f5d0acb",
   "metadata": {},
   "outputs": [],
   "source": [
    "# Global variables\n",
    "TRAINVAL_DATASET_URL = \"https://storage.googleapis.com/fchouteau-isae-deep-learning/large_aircraft_dataset.npz\""
   ]
  },
  {
   "cell_type": "markdown",
   "id": "0766d59c",
   "metadata": {},
   "source": [
    "## Q0 Downloading & splitting the dataset\n",
    "\n",
    "You will get the following:\n",
    "\n",
    "- 50k images in training which you should use as training & validation\n",
    "- 5k images in test, which you should only use to compute your final metrics on. **Don't ever use this dataset for early stopping / intermediary metrics**\n",
    "\n",
    "<img src=\"https://i.stack.imgur.com/pXAfX.png\" alt=\"pokemon\" style=\"width: 400px;\"/>"
   ]
  },
  {
   "cell_type": "code",
   "execution_count": null,
   "id": "10077f25",
   "metadata": {},
   "outputs": [],
   "source": [
    "# Download the dataset\n",
    "ds = np.DataSource(\"/tmp/\")\n",
    "f = ds.open(TRAINVAL_DATASET_URL, \"rb\")\n",
    "trainval_dataset = np.load(f)\n",
    "trainval_images = trainval_dataset[\"train_images\"]\n",
    "trainval_labels = trainval_dataset[\"train_labels\"]\n",
    "test_images = trainval_dataset[\"test_images\"]\n",
    "test_labels = trainval_dataset[\"test_labels\"]"
   ]
  },
  {
   "cell_type": "code",
   "execution_count": null,
   "id": "5cd0e9c6",
   "metadata": {},
   "outputs": [],
   "source": [
    "print(trainval_images.shape)\n",
    "print(np.unique(trainval_labels, return_counts=True))\n",
    "\n",
    "print(test_images.shape)\n",
    "print(np.unique(test_labels, return_counts=True))"
   ]
  },
  {
   "cell_type": "markdown",
   "id": "5d009d8c",
   "metadata": {},
   "source": [
    "### a. Data Exploration\n",
    "\n",
    "a. Can you plot some images ?\n",
    "\n",
    "b. What is the aircraft/background ratio ?"
   ]
  },
  {
   "cell_type": "code",
   "execution_count": null,
   "id": "6ac80f49",
   "metadata": {
    "scrolled": false
   },
   "outputs": [],
   "source": [
    "plt.imshow(trainval_images[random.randint(0,trainval_images.shape[0]),:,:,:])"
   ]
  },
  {
   "cell_type": "markdown",
   "id": "d133b442",
   "metadata": {},
   "source": [
    "### b. Dataset Splitting\n",
    "\n",
    "Here we will split the trainval_dataset to obtain a training and a validation dataset.\n",
    "\n",
    "For example, try to use 20% of the images as validation\n",
    "\n",
    "You must have seen that the dataset was really unbalanced, so a random sampling will not work...\n",
    "\n",
    "Use stratified sampling to keep the label distribution between training and validation"
   ]
  },
  {
   "cell_type": "code",
   "execution_count": null,
   "id": "2961b9dd",
   "metadata": {},
   "outputs": [],
   "source": [
    "background_indexes = np.where(trainval_labels == 0)[0]\n",
    "foreground_indexes = np.where(trainval_labels == 1)[0]\n",
    "\n",
    "train_bg_indexes = background_indexes[: int(0.8 * len(background_indexes))]\n",
    "valid_bg_indexes = background_indexes[int(0.8 * len(background_indexes)) :]\n",
    "\n",
    "train_fg_indexes = foreground_indexes[: int(0.8 * len(foreground_indexes))]\n",
    "valid_fg_indexes = foreground_indexes[int(0.8 * len(foreground_indexes)) :]\n",
    "\n",
    "train_indexes = list(train_bg_indexes) + list(train_fg_indexes)\n",
    "valid_indexes = list(valid_bg_indexes) + list(valid_fg_indexes)\n",
    "\n",
    "train_images = trainval_images[train_indexes, :, :, :]\n",
    "train_labels = trainval_labels[train_indexes]\n",
    "\n",
    "valid_images = trainval_images[valid_indexes, :, :, :]\n",
    "valid_labels = trainval_labels[valid_indexes]"
   ]
  },
  {
   "cell_type": "code",
   "execution_count": 7,
   "id": "c3f20c6e",
   "metadata": {},
   "outputs": [
    {
     "name": "stdout",
     "output_type": "stream",
     "text": [
      "(array([0, 1]), array([33120,  3680]))\n"
     ]
    }
   ],
   "source": [
    "print(np.unique(train_labels, return_counts=True))"
   ]
  },
  {
   "cell_type": "code",
   "execution_count": 8,
   "id": "7b5b2988",
   "metadata": {},
   "outputs": [
    {
     "name": "stdout",
     "output_type": "stream",
     "text": [
      "(array([0, 1]), array([8280,  920]))\n"
     ]
    }
   ],
   "source": [
    "print(np.unique(valid_labels, return_counts=True))"
   ]
  },
  {
   "cell_type": "code",
   "execution_count": 9,
   "id": "1c2abbf9",
   "metadata": {},
   "outputs": [
    {
     "data": {
      "text/plain": [
       "(array([0.27568185, 0.28949009, 0.26529746]),\n",
       " array([0.16389538, 0.16174321, 0.15423233]))"
      ]
     },
     "execution_count": 9,
     "metadata": {},
     "output_type": "execute_result"
    }
   ],
   "source": [
    "# Compute the dataset statistics in [0.,1.], we're going to use it to normalize our data\n",
    "\n",
    "mean = np.mean(train_images, axis=(0, 1, 2)) / 255.0\n",
    "std = np.std(train_images, axis=(0, 1, 2)) / 255.0\n",
    "\n",
    "mean, std"
   ]
  },
  {
   "cell_type": "markdown",
   "id": "541011ee",
   "metadata": {},
   "source": [
    "## Q1. Training & metrics\n",
    "\n",
    "During Session 1, you learnt how to set up your environment on Colab, train a basic CNN on a small training set and plot metrics. Now let's do it again !"
   ]
  },
  {
   "cell_type": "markdown",
   "id": "8b33c9fc",
   "metadata": {},
   "source": [
    "### First run\n",
    "\n",
    "Once you have downloaded & created your training & validation dataset, use the notebook from Session 1 to get:\n",
    "\n",
    "a. Training of the model using steps seen during Session 1\n",
    "\n",
    "b. Compute and plot metrics (confusion matrix, ROC curve) based on this training\n",
    "\n",
    "c. Compare the metrics between this new dataset and the one from Session 1\n",
    "\n",
    "d. What did you expect ? Is your model working well ?"
   ]
  },
  {
   "cell_type": "code",
   "execution_count": 10,
   "id": "8912d3e2",
   "metadata": {},
   "outputs": [],
   "source": [
    "from typing import Callable\n",
    "\n",
    "import torch\n",
    "import torch.nn.functional as F\n",
    "from PIL import Image\n",
    "from torch import nn, optim\n",
    "from torch.utils.data import DataLoader, Dataset\n",
    "from torchvision import datasets, transforms"
   ]
  },
  {
   "cell_type": "code",
   "execution_count": 11,
   "id": "c3c12a2b",
   "metadata": {},
   "outputs": [],
   "source": [
    "DEVICE = torch.device(\"cuda:0\" if torch.cuda.is_available() else \"cpu\")\n",
    "torch.cuda.set_per_process_memory_fraction(0.7)\n",
    "# DEVICE = torch.device(\"cpu\")"
   ]
  },
  {
   "cell_type": "code",
   "execution_count": 12,
   "id": "34fab01a",
   "metadata": {},
   "outputs": [],
   "source": [
    "# Helper functions to get you started\n",
    "class NpArrayDataset(Dataset):\n",
    "    def __init__(\n",
    "        self,\n",
    "        images: np.ndarray,\n",
    "        labels: np.ndarray,\n",
    "        image_transforms: Callable = None,\n",
    "        label_transforms: Callable = None,\n",
    "    ):\n",
    "        self.images = images\n",
    "        self.labels = labels\n",
    "        self.image_transforms = image_transforms\n",
    "        self.label_transforms = label_transforms\n",
    "\n",
    "    def __len__(self):\n",
    "        return self.images.shape[0]\n",
    "\n",
    "    def __getitem__(self, index: int):\n",
    "        x = self.images[index]\n",
    "        y = self.labels[index]\n",
    "\n",
    "        if self.image_transforms is not None:\n",
    "            x = self.image_transforms(x)\n",
    "        else:\n",
    "            x = torch.tensor(x)\n",
    "\n",
    "        if self.label_transforms is not None:\n",
    "            y = self.label_transforms(y)\n",
    "        else:\n",
    "            y = torch.tensor(y)\n",
    "\n",
    "        return x, y"
   ]
  },
  {
   "cell_type": "code",
   "execution_count": 13,
   "id": "17cd9b95",
   "metadata": {},
   "outputs": [],
   "source": [
    "# Data loading\n",
    "image_transforms = transforms.Compose(\n",
    "    [\n",
    "        # Add data augmentation ?\n",
    "        transforms.ToTensor(),\n",
    "        transforms.Normalize(mean, std),\n",
    "    ]\n",
    ")\n",
    "\n",
    "target_transforms = None\n",
    "\n",
    "# load the training data\n",
    "train_set = NpArrayDataset(\n",
    "    images=train_images,\n",
    "    labels=train_labels,\n",
    "    image_transforms=image_transforms,\n",
    "    label_transforms=target_transforms,\n",
    ")\n",
    "train_loader = DataLoader(train_set, batch_size=64, shuffle=True)\n",
    "\n",
    "# load the validation data\n",
    "validation_set = NpArrayDataset(\n",
    "    images=valid_images,\n",
    "    labels=valid_labels,\n",
    "    image_transforms=image_transforms,\n",
    "    label_transforms=target_transforms,\n",
    ")\n",
    "val_loader = DataLoader(validation_set, batch_size=64, shuffle=True)"
   ]
  },
  {
   "cell_type": "markdown",
   "id": "6dcb8130",
   "metadata": {},
   "source": [
    "define your model, fill the blanks\n",
    "\n",
    "Be careful, this time we are zero padding images so convolutions do not reduce image size !\n",
    "\n",
    "![padding](https://raw.githubusercontent.com/vdumoulin/conv_arithmetic/master/gif/same_padding_no_strides.gif)"
   ]
  },
  {
   "cell_type": "code",
   "execution_count": 14,
   "id": "7e3af748",
   "metadata": {
    "lines_to_next_cell": 2
   },
   "outputs": [
    {
     "data": {
      "text/plain": [
       "Sequential(\n",
       "  (0): Conv2d(3, 32, kernel_size=(3, 3), stride=(1, 1), padding=(1, 1))\n",
       "  (1): ReLU()\n",
       "  (2): Conv2d(32, 32, kernel_size=(3, 3), stride=(1, 1), padding=(1, 1))\n",
       "  (3): ReLU()\n",
       "  (4): MaxPool2d(kernel_size=2, stride=2, padding=0, dilation=1, ceil_mode=False)\n",
       "  (5): Conv2d(32, 64, kernel_size=(3, 3), stride=(1, 1), padding=(1, 1))\n",
       "  (6): ReLU()\n",
       "  (7): Conv2d(64, 64, kernel_size=(3, 3), stride=(1, 1), padding=(1, 1))\n",
       "  (8): ReLU()\n",
       "  (9): MaxPool2d(kernel_size=2, stride=2, padding=0, dilation=1, ceil_mode=False)\n",
       "  (10): Conv2d(64, 128, kernel_size=(3, 3), stride=(1, 1), padding=(1, 1))\n",
       "  (11): ReLU()\n",
       "  (12): Conv2d(128, 128, kernel_size=(3, 3), stride=(1, 1), padding=(1, 1))\n",
       "  (13): ReLU()\n",
       "  (14): MaxPool2d(kernel_size=2, stride=2, padding=0, dilation=1, ceil_mode=False)\n",
       "  (15): Conv2d(128, 128, kernel_size=(3, 3), stride=(1, 1), padding=(1, 1))\n",
       "  (16): ReLU()\n",
       "  (17): Conv2d(128, 128, kernel_size=(3, 3), stride=(1, 1), padding=(1, 1))\n",
       "  (18): ReLU()\n",
       "  (19): MaxPool2d(kernel_size=2, stride=2, padding=0, dilation=1, ceil_mode=False)\n",
       "  (20): Flatten(start_dim=1, end_dim=-1)\n",
       "  (21): Linear(in_features=2048, out_features=256, bias=True)\n",
       "  (22): ReLU()\n",
       "  (23): Dropout(p=0.1, inplace=False)\n",
       "  (24): Linear(in_features=256, out_features=1, bias=True)\n",
       "  (25): Sigmoid()\n",
       ")"
      ]
     },
     "execution_count": 14,
     "metadata": {},
     "output_type": "execute_result"
    }
   ],
   "source": [
    "def _init_weights(model):\n",
    "    for m in model.modules():\n",
    "        # Initialize all convs\n",
    "        if isinstance(m, nn.Conv2d):\n",
    "            nn.init.kaiming_normal_(m.weight, mode=\"fan_in\", nonlinearity=\"relu\")\n",
    "        if isinstance(m, nn.Linear):\n",
    "            nn.init.kaiming_normal_(m.weight, mode=\"fan_in\", nonlinearity=\"relu\")\n",
    "\n",
    "\n",
    "def model_fn():\n",
    "\n",
    "    model = nn.Sequential(\n",
    "        # size: 3 x 64 x 64\n",
    "        nn.Conv2d(in_channels=3, out_channels=32, kernel_size=3, padding=1),\n",
    "        # size: 32 x 64 x 64\n",
    "        nn.ReLU(),\n",
    "        nn.Conv2d(in_channels=32, out_channels=32, kernel_size=3, padding=1),\n",
    "        nn.ReLU(),\n",
    "        nn.MaxPool2d(2),\n",
    "        # size: 32 x 32 x 32\n",
    "        nn.Conv2d(in_channels=32, out_channels=64, kernel_size=3, padding=1),\n",
    "        nn.ReLU(),\n",
    "        nn.Conv2d(in_channels=64, out_channels=64, kernel_size=3, padding=1),\n",
    "        nn.ReLU(),\n",
    "        # size: 64 x 32 x 32\n",
    "        nn.MaxPool2d(2),\n",
    "        # size: 64 x ? x ?\n",
    "        nn.Conv2d(in_channels=64, out_channels=128, kernel_size=3, padding=1),\n",
    "        nn.ReLU(),\n",
    "        nn.Conv2d(in_channels=128, out_channels=128, kernel_size=3, padding=1),\n",
    "        nn.ReLU(),\n",
    "        nn.MaxPool2d(2),\n",
    "        # size: ? x ? x ?\n",
    "        nn.Conv2d(in_channels=128, out_channels=128, kernel_size=3, padding=1),\n",
    "        nn.ReLU(),\n",
    "        nn.Conv2d(in_channels=128, out_channels=128, kernel_size=3, padding=1),\n",
    "        nn.ReLU(),\n",
    "        nn.MaxPool2d(2),\n",
    "        # size: ? x ? x ?\n",
    "        nn.Flatten(),\n",
    "        nn.Linear(in_features=4*4*128, out_features=256),\n",
    "        nn.ReLU(),\n",
    "        nn.Dropout(p=0.10),\n",
    "        nn.Linear(in_features=256, out_features=1),\n",
    "        nn.Sigmoid(),\n",
    "    )\n",
    "\n",
    "    _init_weights(model)\n",
    "\n",
    "    return model\n",
    "\n",
    "model = model_fn()\n",
    "\n",
    "model.to(DEVICE)"
   ]
  },
  {
   "cell_type": "code",
   "execution_count": 15,
   "id": "e5bf1e91",
   "metadata": {},
   "outputs": [
    {
     "name": "stdout",
     "output_type": "stream",
     "text": [
      "Sequential(\n",
      "  (0): Conv2d(3, 32, kernel_size=(3, 3), stride=(1, 1), padding=(1, 1))\n",
      "  (1): ReLU()\n",
      "  (2): Conv2d(32, 32, kernel_size=(3, 3), stride=(1, 1), padding=(1, 1))\n",
      "  (3): ReLU()\n",
      "  (4): MaxPool2d(kernel_size=2, stride=2, padding=0, dilation=1, ceil_mode=False)\n",
      "  (5): Conv2d(32, 64, kernel_size=(3, 3), stride=(1, 1), padding=(1, 1))\n",
      "  (6): ReLU()\n",
      "  (7): Conv2d(64, 64, kernel_size=(3, 3), stride=(1, 1), padding=(1, 1))\n",
      "  (8): ReLU()\n",
      "  (9): MaxPool2d(kernel_size=2, stride=2, padding=0, dilation=1, ceil_mode=False)\n",
      "  (10): Conv2d(64, 128, kernel_size=(3, 3), stride=(1, 1), padding=(1, 1))\n",
      "  (11): ReLU()\n",
      "  (12): Conv2d(128, 128, kernel_size=(3, 3), stride=(1, 1), padding=(1, 1))\n",
      "  (13): ReLU()\n",
      "  (14): MaxPool2d(kernel_size=2, stride=2, padding=0, dilation=1, ceil_mode=False)\n",
      "  (15): Conv2d(128, 128, kernel_size=(3, 3), stride=(1, 1), padding=(1, 1))\n",
      "  (16): ReLU()\n",
      "  (17): Conv2d(128, 128, kernel_size=(3, 3), stride=(1, 1), padding=(1, 1))\n",
      "  (18): ReLU()\n",
      "  (19): MaxPool2d(kernel_size=2, stride=2, padding=0, dilation=1, ceil_mode=False)\n",
      "  (20): Flatten(start_dim=1, end_dim=-1)\n",
      "  (21): Linear(in_features=2048, out_features=256, bias=True)\n",
      "  (22): ReLU()\n",
      "  (23): Dropout(p=0.1, inplace=False)\n",
      "  (24): Linear(in_features=256, out_features=1, bias=True)\n",
      "  (25): Sigmoid()\n",
      ")\n"
     ]
    }
   ],
   "source": [
    "print(model)"
   ]
  },
  {
   "cell_type": "code",
   "execution_count": 16,
   "id": "4ffcc2b3",
   "metadata": {},
   "outputs": [],
   "source": [
    "# declare optimizers and loss\n",
    "criterion = nn.BCELoss(reduction=\"mean\")\n",
    "optimizer = optim.SGD(model.parameters(), lr=1e-2, momentum=0.9) #test avec adam"
   ]
  },
  {
   "cell_type": "code",
   "execution_count": 17,
   "id": "4f0efc37",
   "metadata": {},
   "outputs": [],
   "source": [
    "def train_one_epoch(model, train_loader):\n",
    "\n",
    "    epoch_loss = []\n",
    "\n",
    "    for i, batch in enumerate(train_loader):\n",
    "\n",
    "        # get one batch\n",
    "        x, y_true = batch\n",
    "        x = x.to(DEVICE)\n",
    "        y_true = y_true.to(DEVICE)\n",
    "\n",
    "        # format the y_true so that it is compatible with the loss\n",
    "        y_true = y_true.view((-1, 1)).float()\n",
    "\n",
    "        # zero the parameter gradients\n",
    "        optimizer.zero_grad()\n",
    "\n",
    "        # forward\n",
    "        y_pred = model(x)\n",
    "\n",
    "        # compute loss\n",
    "        loss = criterion(y_pred, y_true)\n",
    "\n",
    "        # backward\n",
    "        loss.backward()\n",
    "\n",
    "        # update parameters\n",
    "        optimizer.step()\n",
    "\n",
    "        # save statistics\n",
    "        epoch_loss.append(loss.item())\n",
    "\n",
    "        if i % 100 == 0:\n",
    "            print(f\"Batch {i}, curr loss = {loss.item():.03f}\")\n",
    "\n",
    "    return np.asarray(epoch_loss).mean()\n",
    "\n",
    "\n",
    "def valid_one_epoch(model, valid_loader):\n",
    "\n",
    "    epoch_loss = []\n",
    "    epoch_accuracy = []\n",
    "\n",
    "    for i, batch in enumerate(valid_loader):\n",
    "        with torch.no_grad():\n",
    "            # get one batch\n",
    "            x, y_true = batch\n",
    "            x = x.to(DEVICE)\n",
    "            y_true = y_true.to(DEVICE)\n",
    "\n",
    "            # format the y_true so that it is compatible with the loss\n",
    "            y_true = y_true.view((-1, 1)).float()\n",
    "\n",
    "            # forward\n",
    "            y_pred = model(x)\n",
    "\n",
    "            # compute loss and accuracy\n",
    "            loss = criterion(y_pred, y_true)\n",
    "            threshold = 0.05\n",
    "            accuracy = y_true[y_pred>threshold].sum()-(y_true-1)[y_pred<threshold].sum()\n",
    "            accuracy = accuracy/y_true.size(dim=0)\n",
    "\n",
    "            # save statistics\n",
    "            epoch_loss.append(loss.item())\n",
    "            epoch_accuracy.append(accuracy.item())\n",
    "\n",
    "    return np.asarray(epoch_loss).mean(), np.asarray(epoch_accuracy).mean()"
   ]
  },
  {
   "cell_type": "code",
   "execution_count": 18,
   "id": "4c4165d9",
   "metadata": {
    "scrolled": true
   },
   "outputs": [
    {
     "name": "stdout",
     "output_type": "stream",
     "text": [
      "Sequential(\n",
      "  (0): Conv2d(3, 32, kernel_size=(3, 3), stride=(1, 1), padding=(1, 1))\n",
      "  (1): ReLU()\n",
      "  (2): Conv2d(32, 32, kernel_size=(3, 3), stride=(1, 1), padding=(1, 1))\n",
      "  (3): ReLU()\n",
      "  (4): MaxPool2d(kernel_size=2, stride=2, padding=0, dilation=1, ceil_mode=False)\n",
      "  (5): Conv2d(32, 64, kernel_size=(3, 3), stride=(1, 1), padding=(1, 1))\n",
      "  (6): ReLU()\n",
      "  (7): Conv2d(64, 64, kernel_size=(3, 3), stride=(1, 1), padding=(1, 1))\n",
      "  (8): ReLU()\n",
      "  (9): MaxPool2d(kernel_size=2, stride=2, padding=0, dilation=1, ceil_mode=False)\n",
      "  (10): Conv2d(64, 128, kernel_size=(3, 3), stride=(1, 1), padding=(1, 1))\n",
      "  (11): ReLU()\n",
      "  (12): Conv2d(128, 128, kernel_size=(3, 3), stride=(1, 1), padding=(1, 1))\n",
      "  (13): ReLU()\n",
      "  (14): MaxPool2d(kernel_size=2, stride=2, padding=0, dilation=1, ceil_mode=False)\n",
      "  (15): Conv2d(128, 128, kernel_size=(3, 3), stride=(1, 1), padding=(1, 1))\n",
      "  (16): ReLU()\n",
      "  (17): Conv2d(128, 128, kernel_size=(3, 3), stride=(1, 1), padding=(1, 1))\n",
      "  (18): ReLU()\n",
      "  (19): MaxPool2d(kernel_size=2, stride=2, padding=0, dilation=1, ceil_mode=False)\n",
      "  (20): Flatten(start_dim=1, end_dim=-1)\n",
      "  (21): Linear(in_features=2048, out_features=256, bias=True)\n",
      "  (22): ReLU()\n",
      "  (23): Dropout(p=0.1, inplace=False)\n",
      "  (24): Linear(in_features=256, out_features=1, bias=True)\n",
      "  (25): Sigmoid()\n",
      ")\n",
      "Batch 0, curr loss = 0.766\n",
      "Batch 100, curr loss = 0.222\n",
      "Batch 200, curr loss = 0.125\n",
      "Batch 300, curr loss = 0.114\n",
      "Batch 400, curr loss = 0.098\n",
      "Batch 500, curr loss = 0.018\n",
      "EPOCH=0, TRAIN=0.1445828781025889, VAL=0.06991303036273974, ACC=0.9005714700453811\n",
      "Batch 0, curr loss = 0.030\n",
      "Batch 100, curr loss = 0.035\n",
      "Batch 200, curr loss = 0.025\n",
      "Batch 300, curr loss = 0.035\n",
      "Batch 400, curr loss = 0.166\n",
      "Batch 500, curr loss = 0.043\n",
      "EPOCH=1, TRAIN=0.05854166946535849, VAL=0.034192968347472034, ACC=0.9629267942574289\n",
      "Batch 0, curr loss = 0.052\n",
      "Batch 100, curr loss = 0.028\n",
      "Batch 200, curr loss = 0.046\n",
      "Batch 300, curr loss = 0.112\n",
      "Batch 400, curr loss = 0.017\n",
      "Batch 500, curr loss = 0.074\n",
      "EPOCH=2, TRAIN=0.036554017005508525, VAL=0.027896044753207307, ACC=0.9852068867120478\n",
      "Batch 0, curr loss = 0.011\n",
      "Batch 100, curr loss = 0.056\n",
      "Batch 200, curr loss = 0.003\n",
      "Batch 300, curr loss = 0.002\n",
      "Batch 400, curr loss = 0.004\n",
      "Batch 500, curr loss = 0.004\n",
      "EPOCH=3, TRAIN=0.024162137893473972, VAL=0.022722572030438135, ACC=0.9741753472222222\n",
      "Batch 0, curr loss = 0.004\n",
      "Batch 100, curr loss = 0.002\n",
      "Batch 200, curr loss = 0.013\n",
      "Batch 300, curr loss = 0.001\n",
      "Batch 400, curr loss = 0.004\n",
      "Batch 500, curr loss = 0.002\n",
      "EPOCH=4, TRAIN=0.017947130741845087, VAL=0.021257303846545658, ACC=0.9823495373129845\n",
      "Batch 0, curr loss = 0.008\n",
      "Batch 100, curr loss = 0.002\n",
      "Batch 200, curr loss = 0.039\n",
      "Batch 300, curr loss = 0.005\n",
      "Batch 400, curr loss = 0.000\n",
      "Batch 500, curr loss = 0.063\n",
      "EPOCH=5, TRAIN=0.012600513021632492, VAL=0.018853856974146765, ACC=0.9931640625\n",
      "Batch 0, curr loss = 0.000\n",
      "Batch 100, curr loss = 0.001\n",
      "Batch 200, curr loss = 0.029\n",
      "Batch 300, curr loss = 0.011\n",
      "Batch 400, curr loss = 0.016\n",
      "Batch 500, curr loss = 0.001\n",
      "EPOCH=6, TRAIN=0.009493676953039223, VAL=0.01540321655132478, ACC=0.990234375\n",
      "Batch 0, curr loss = 0.001\n",
      "Batch 100, curr loss = 0.003\n",
      "Batch 200, curr loss = 0.014\n",
      "Batch 300, curr loss = 0.001\n",
      "Batch 400, curr loss = 0.001\n",
      "Batch 500, curr loss = 0.030\n",
      "EPOCH=7, TRAIN=0.007911341228343942, VAL=0.01918236384522566, ACC=0.9865089700453811\n",
      "Batch 0, curr loss = 0.002\n",
      "Batch 100, curr loss = 0.010\n",
      "Batch 200, curr loss = 0.000\n",
      "Batch 300, curr loss = 0.001\n",
      "Batch 400, curr loss = 0.001\n",
      "Batch 500, curr loss = 0.003\n",
      "EPOCH=8, TRAIN=0.005858083074224692, VAL=0.01171311149773323, ACC=0.9922960069444444\n",
      "Batch 0, curr loss = 0.001\n",
      "Batch 100, curr loss = 0.002\n",
      "Batch 200, curr loss = 0.005\n",
      "Batch 300, curr loss = 0.000\n",
      "Batch 400, curr loss = 0.015\n",
      "Batch 500, curr loss = 0.000\n",
      "EPOCH=9, TRAIN=0.004996994689188242, VAL=0.014857501206809806, ACC=0.9908492478231589\n",
      "Batch 0, curr loss = 0.000\n",
      "Batch 100, curr loss = 0.001\n",
      "Batch 200, curr loss = 0.000\n",
      "Batch 300, curr loss = 0.000\n",
      "Batch 400, curr loss = 0.000\n",
      "Batch 500, curr loss = 0.035\n",
      "EPOCH=10, TRAIN=0.0019118618712313353, VAL=0.015630535545982285, ACC=0.9927300347222222\n",
      "Batch 0, curr loss = 0.000\n",
      "Batch 100, curr loss = 0.002\n",
      "Batch 200, curr loss = 0.000\n",
      "Batch 300, curr loss = 0.000\n",
      "Batch 400, curr loss = 0.001\n",
      "Batch 500, curr loss = 0.000\n",
      "EPOCH=11, TRAIN=0.0032701412355272226, VAL=0.018220758254225682, ACC=0.9875940394898256\n",
      "Batch 0, curr loss = 0.000\n",
      "Batch 100, curr loss = 0.004\n",
      "Batch 200, curr loss = 0.002\n",
      "Batch 300, curr loss = 0.004\n",
      "Batch 400, curr loss = 0.018\n",
      "Batch 500, curr loss = 0.000\n",
      "EPOCH=12, TRAIN=0.0025083122270117874, VAL=0.016089159539597456, ACC=0.9901982061564922\n",
      "Batch 0, curr loss = 0.001\n",
      "Batch 100, curr loss = 0.000\n",
      "Batch 200, curr loss = 0.000\n",
      "Batch 300, curr loss = 0.000\n",
      "Batch 400, curr loss = 0.000\n",
      "Batch 500, curr loss = 0.000\n",
      "EPOCH=13, TRAIN=0.00021662958755255007, VAL=0.013829986986225704, ACC=0.9933449075453811\n",
      "\n",
      "EARLY STOPPING\n"
     ]
    }
   ],
   "source": [
    "# Run your training and plot your train/val metrics\n",
    "# You can copy paste the functions and your loops that gives the best results\n",
    "\n",
    "model = model_fn()\n",
    "\n",
    "# moving model to gpu if available\n",
    "model = model.to(DEVICE)\n",
    "\n",
    "print(model)\n",
    "\n",
    "EPOCHS = 20  # Set number of epochs, example 100\n",
    "LEARNING_RATE = 1e-2\n",
    "MOMENTUM = 0.9\n",
    "\n",
    "criterion = nn.BCELoss(reduction=\"mean\")\n",
    "optimizer = optim.SGD(model.parameters(), lr=LEARNING_RATE, momentum=MOMENTUM,weight_decay=1e-4)\n",
    "\n",
    "# Send model to GPU\n",
    "model = model.to(DEVICE)\n",
    "\n",
    "train_losses = []\n",
    "valid_losses = []\n",
    "valid_accuracy = []\n",
    "early_stop = 5 # 0 to deactivate\n",
    "count = 0\n",
    "# loop over the dataset multiple times\n",
    "for epoch in range(EPOCHS):\n",
    "    model.train()\n",
    "    train_epoch_loss = train_one_epoch(model, train_loader)\n",
    "    model.eval()\n",
    "    valid_epoch_loss, valid_epoch_accuracy = valid_one_epoch(model, val_loader)\n",
    "\n",
    "    print(f\"EPOCH={epoch}, TRAIN={train_epoch_loss}, VAL={valid_epoch_loss}, ACC={valid_epoch_accuracy}\")\n",
    "\n",
    "    train_losses.append(train_epoch_loss)\n",
    "    valid_losses.append(valid_epoch_loss)\n",
    "    valid_accuracy.append(valid_epoch_accuracy)\n",
    "    \n",
    "    if valid_losses[-1] > min(valid_losses):\n",
    "        count+=1\n",
    "    else:\n",
    "        count = 0\n",
    "    \n",
    "    if count >= early_stop and early_stop != 0:\n",
    "        print(\"\\nEARLY STOPPING\")\n",
    "        break\n",
    "    "
   ]
  },
  {
   "cell_type": "code",
   "execution_count": 57,
   "id": "cfbe65a3",
   "metadata": {},
   "outputs": [
    {
     "name": "stdout",
     "output_type": "stream",
     "text": [
      "RecursiveScriptModule(\n",
      "  original_name=Sequential\n",
      "  (0): RecursiveScriptModule(original_name=Conv2d)\n",
      "  (1): RecursiveScriptModule(original_name=ReLU)\n",
      "  (2): RecursiveScriptModule(original_name=Conv2d)\n",
      "  (3): RecursiveScriptModule(original_name=ReLU)\n",
      "  (4): RecursiveScriptModule(original_name=MaxPool2d)\n",
      "  (5): RecursiveScriptModule(original_name=Conv2d)\n",
      "  (6): RecursiveScriptModule(original_name=ReLU)\n",
      "  (7): RecursiveScriptModule(original_name=Conv2d)\n",
      "  (8): RecursiveScriptModule(original_name=ReLU)\n",
      "  (9): RecursiveScriptModule(original_name=MaxPool2d)\n",
      "  (10): RecursiveScriptModule(original_name=Conv2d)\n",
      "  (11): RecursiveScriptModule(original_name=ReLU)\n",
      "  (12): RecursiveScriptModule(original_name=Conv2d)\n",
      "  (13): RecursiveScriptModule(original_name=ReLU)\n",
      "  (14): RecursiveScriptModule(original_name=MaxPool2d)\n",
      "  (15): RecursiveScriptModule(original_name=Conv2d)\n",
      "  (16): RecursiveScriptModule(original_name=ReLU)\n",
      "  (17): RecursiveScriptModule(original_name=Conv2d)\n",
      "  (18): RecursiveScriptModule(original_name=ReLU)\n",
      "  (19): RecursiveScriptModule(original_name=MaxPool2d)\n",
      "  (20): RecursiveScriptModule(original_name=Flatten)\n",
      "  (21): RecursiveScriptModule(original_name=Linear)\n",
      "  (22): RecursiveScriptModule(original_name=ReLU)\n",
      "  (23): RecursiveScriptModule(original_name=Dropout)\n",
      "  (24): RecursiveScriptModule(original_name=Linear)\n",
      "  (25): RecursiveScriptModule(original_name=Sigmoid)\n",
      ")\n"
     ]
    }
   ],
   "source": [
    "# State dict saving\n",
    "with open(\"model.pt\", \"wb\") as f:\n",
    "    torch.save(model.state_dict(), f)\n",
    "\n",
    "# Model scripting\n",
    "import torch.jit\n",
    "# Put the model in eval mode\n",
    "model = model.cpu().eval()\n",
    "# Script the model\n",
    "scripted_model = torch.jit.script(model)\n",
    "# Save\n",
    "scripted_model.save(\"scripted_model.pt\")\n",
    "print(scripted_model)\n",
    "# Scripted model reloading (demo)\n",
    "scripted_model = torch.jit.load(\"scripted_model.pt\", map_location=DEVICE)\n",
    "    \n",
    "# See below for how to reload the model"
   ]
  },
  {
   "cell_type": "code",
   "execution_count": 21,
   "id": "a1199bab",
   "metadata": {},
   "outputs": [
    {
     "data": {
      "image/png": "[encoded data removed]",
      "text/plain": [
       "<Figure size 640x480 with 1 Axes>"
      ]
     },
     "metadata": {},
     "output_type": "display_data"
    }
   ],
   "source": [
    "# Plot training / validation loss\n",
    "plt.plot(train_losses, label=\"Training Loss\")\n",
    "plt.plot(valid_losses, label=\"Validation Loss\")\n",
    "plt.xlabel(\"No. of Epochs\")\n",
    "plt.ylabel(\"Loss\")\n",
    "plt.legend(frameon=False)\n",
    "plt.show()"
   ]
  },
  {
   "cell_type": "markdown",
   "id": "b3bffcc8",
   "metadata": {},
   "source": [
    "### Test metrics, introduction to PR Curves\n",
    "\n",
    "During the previous notebook you plotted the Receiver Operating Characteristic curve. This is not ideal when dealing with imbalanced dataset since the issue of class imbalance can result in a serious bias towards the majority class, reducing the classification performance and increasing the number of **false positives**. Furthermore, in ROC curve calculation, true negatives don't have such meaning any longer.\n",
    "\n",
    "Instead this time we will plot the Precision Recall curve of our model which uses precision and recall to evaluate models.\n",
    "\n",
    "![](https://cdn-images-1.medium.com/fit/t/1600/480/1*Ub0nZTXYT8MxLzrz0P7jPA.png)\n",
    "\n",
    "![](https://modtools.files.wordpress.com/2020/01/roc_pr-1.png?w=946)\n",
    "\n",
    "Refer here for a tutorial on how to plot such curve:\n",
    "\n",
    "https://scikit-learn.org/stable/modules/generated/sklearn.metrics.precision_recall_curve.html\n",
    "\n",
    "More details on PR Curve:\n",
    "\n",
    "https://scikit-learn.org/stable/auto_examples/model_selection/plot_precision_recall.html\n",
    "\n",
    "https://www.datascienceblog.net/post/machine-learning/interpreting-roc-curves-auc/\n",
    "\n",
    "**e. Plot the ROC curve of your model as well as its PR Curve, on the test set, compare them, which is easier to interpret ?**"
   ]
  },
  {
   "cell_type": "code",
   "execution_count": 32,
   "id": "103b06d0",
   "metadata": {},
   "outputs": [
    {
     "name": "stderr",
     "output_type": "stream",
     "text": [
      "predicting: 100%|████████████████████████| 10240/10240 [00:15<00:00, 655.43it/s]\n"
     ]
    }
   ],
   "source": [
    "from sklearn.metrics import auc, roc_curve\n",
    "import tqdm\n",
    "\n",
    "test_ds = NpArrayDataset(\n",
    "    images=test_images,\n",
    "    labels=test_labels,\n",
    "    image_transforms=image_transforms,\n",
    "    label_transforms=target_transforms,\n",
    ")\n",
    "\n",
    "# Plot ROC curve as in the preview notebook\n",
    "y_true = []\n",
    "y_pred = []\n",
    "\n",
    "# Send model to correct device\n",
    "model.to(DEVICE)\n",
    "\n",
    "# Put model in evaluatio mode (very important)\n",
    "model.eval()\n",
    "\n",
    "# Disable all gradients things\n",
    "with torch.no_grad():\n",
    "    for x, y_t in tqdm.tqdm(test_ds, \"predicting\"):\n",
    "        x = x.reshape((-1,) + x.shape)\n",
    "        x = x.to(DEVICE)\n",
    "        y = model.forward(x)\n",
    "        y = y.to(\"cpu\").numpy()\n",
    "\n",
    "        y_t = int(y_t.to(\"cpu\").numpy())\n",
    "\n",
    "        y_pred.append(y)\n",
    "        y_true.append(y_t)\n",
    "y_pred = np.concatenate(y_pred, axis=0)\n",
    "y_true = np.asarray(y_true)\n",
    "\n",
    "\n",
    "y_pred_probas = np.round(y_pred[:, 0], 2)\n",
    "\n",
    "fpr, tpr, thresholds = roc_curve(y_true, y_pred_probas)\n",
    "roc_auc = auc(fpr, tpr)"
   ]
  },
  {
   "cell_type": "code",
   "execution_count": 33,
   "id": "8ad0d7fe",
   "metadata": {},
   "outputs": [],
   "source": [
    "# Plot PR curve\n",
    "\n",
    "# Compute PR Curve\n",
    "\n",
    "import numpy as np\n",
    "from sklearn.metrics import (\n",
    "    PrecisionRecallDisplay,\n",
    "    average_precision_score,\n",
    "    precision_recall_curve,\n",
    ")\n",
    "\n",
    "# We round predictions for better readability\n",
    "y_pred_probas = np.round(y_pred[:, 0], 2)\n",
    "\n",
    "precisions, recalls, thresholds = precision_recall_curve(\n",
    "    y_true, y_pred_probas, pos_label=1\n",
    ")\n",
    "\n",
    "ap = average_precision_score(y_true, y_pred)"
   ]
  },
  {
   "cell_type": "code",
   "execution_count": 38,
   "id": "93eee1e8",
   "metadata": {},
   "outputs": [
    {
     "data": {
      "image/png": "[encoded data removed]",
      "text/plain": [
       "<Figure size 800x400 with 2 Axes>"
      ]
     },
     "metadata": {},
     "output_type": "display_data"
    }
   ],
   "source": [
    "plt.figure(figsize=(8,4))\n",
    "lw = 2\n",
    "\n",
    "plt.subplot(1,2,1)\n",
    "plt.plot(\n",
    "    fpr, tpr, color=\"darkorange\", lw=lw, label=\"ROC curve (area = %0.3f)\" % roc_auc\n",
    ")\n",
    "plt.plot([0, 1], [0, 1], color=\"navy\", lw=lw, linestyle=\"--\")\n",
    "plt.xlim([0.0, 1.0])\n",
    "plt.ylim([0.0, 1.05])\n",
    "plt.xlabel(\"False Positive Rate\")\n",
    "plt.ylabel(\"True Positive Rate\")\n",
    "plt.title(\"Receiver operating characteristic example\")\n",
    "plt.legend(loc=\"lower right\")\n",
    "\n",
    "plt.subplot(1,2,2)\n",
    "plt.plot(\n",
    "    recalls, precisions, color=\"darkorange\", lw=lw, label=\"PR Curve (AP = %0.3f)\" % ap\n",
    ")\n",
    "plt.xlim([0.0, 1.0])\n",
    "plt.ylim([0.0, 1.05])\n",
    "plt.xlabel(\"Recall\")\n",
    "plt.ylabel(\"Precision\")\n",
    "plt.title(\"PR Curve\")\n",
    "plt.legend(loc=\"lower left\")\n",
    "plt.show()"
   ]
  },
  {
   "cell_type": "markdown",
   "id": "060a7936",
   "metadata": {},
   "source": [
    "**f. Can you understand why PR curve may be more useful than ROC curve for diagnosing model performance when dealing with imbalanced data ?**"
   ]
  },
  {
   "cell_type": "code",
   "execution_count": null,
   "id": "9a0c0bb9",
   "metadata": {},
   "outputs": [],
   "source": [
    "# Answer"
   ]
  },
  {
   "cell_type": "markdown",
   "id": "7dcce61e",
   "metadata": {},
   "source": [
    "**g. What is Fbeta-Score ? How can it help ? How do you chose beta?**\n",
    "\n",
    "Some reading: https://towardsdatascience.com/on-roc-and-precision-recall-curves-c23e9b63820c"
   ]
  },
  {
   "cell_type": "code",
   "execution_count": 39,
   "id": "0b22b216",
   "metadata": {},
   "outputs": [],
   "source": [
    "def fbeta(precision, recall, beta=1.0):\n",
    "    if p == 0.0 or r == 0.0:\n",
    "        return 0.0\n",
    "    else:\n",
    "        return (1 + beta**2) * (precision * recall) / (beta**2 * precision + recall)"
   ]
  },
  {
   "cell_type": "markdown",
   "id": "4bd04c71",
   "metadata": {},
   "source": [
    "**h. Can you use the PR curve to choose a threshold ?**\n",
    "\n",
    "The same way you did for the ROC curve"
   ]
  },
  {
   "cell_type": "code",
   "execution_count": 41,
   "id": "fc98705f",
   "metadata": {},
   "outputs": [
    {
     "name": "stderr",
     "output_type": "stream",
     "text": [
      "/tmp/ipykernel_3788/3637882629.py:2: DeprecationWarning: `np.int` is a deprecated alias for the builtin `int`. To silence this warning, use `int` by itself. Doing this will not modify any behavior and is safe. When replacing `np.int`, you may wish to use e.g. `np.int64` or `np.int32` to specify the precision. If you wish to review your current use, check the release note link for additional information.\n",
      "Deprecated in NumPy 1.20; for more details and guidance: https://numpy.org/devdocs/release/1.20.0-notes.html#deprecations\n",
      "  y_pred_probas = (y_pred[:, 0] / 0.05).astype(np.int) * 0.05\n"
     ]
    },
    {
     "data": {
      "text/plain": [
       "<Figure size 640x480 with 0 Axes>"
      ]
     },
     "metadata": {},
     "output_type": "display_data"
    },
    {
     "data": {
      "image/png": "[encoded data removed]",
      "text/plain": [
       "<Figure size 1000x1000 with 1 Axes>"
      ]
     },
     "metadata": {},
     "output_type": "display_data"
    }
   ],
   "source": [
    "# We round predictions every 0.05 for readability\n",
    "y_pred_probas = (y_pred[:, 0] / 0.05).astype(np.int) * 0.05\n",
    "\n",
    "precisions, recalls, thresholds = precision_recall_curve(\n",
    "    y_true, y_pred_probas, pos_label=1\n",
    ")\n",
    "\n",
    "ap = average_precision_score(y_true, y_pred)\n",
    "\n",
    "plt.clf()\n",
    "fig = plt.figure(figsize=(10, 10))\n",
    "plt.step(recalls, precisions, \"bo\", alpha=0.2, where=\"post\")\n",
    "plt.fill_between(recalls, precisions, alpha=0.2, color=\"b\", step=\"post\")\n",
    "\n",
    "for r, p, t in zip(recalls, precisions, thresholds):\n",
    "    plt.annotate(\n",
    "        np.round(t, 2),\n",
    "        xy=(r, p),\n",
    "        xytext=(r - 0.05, p - 0.05),\n",
    "        arrowprops=dict(arrowstyle=\"->\", connectionstyle=\"arc3\"),\n",
    "    )\n",
    "\n",
    "plt.xlabel(\"Recall\")\n",
    "plt.ylabel(\"Precision\")\n",
    "plt.ylim([0.8, 1.05])\n",
    "plt.xlim([0.8, 1.0])\n",
    "plt.title(\"2-class Precision-Recall curve: AP={:0.2f}\".format(ap))\n",
    "plt.show()"
   ]
  },
  {
   "cell_type": "markdown",
   "id": "4391a0c4",
   "metadata": {},
   "source": [
    "You can also use the fbeta score to find the best threshold, for example to maximise f1 or f2...\n",
    "\n",
    "```python\n",
    "def find_best_threshold(precisions, recalls, thresholds, beta=2.):\n",
    "    best_fb = -np.inf\n",
    "    best_t = None\n",
    "    for t, p, r in zip(thresholds, precisions, recalls):\n",
    "        fb = fbeta(p, r, beta=beta)\n",
    "        if fb > best_fb:\n",
    "            best_t = t\n",
    "            best_fb = fb\n",
    "\n",
    "    return best_fb, best_t\n",
    "```"
   ]
  },
  {
   "cell_type": "code",
   "execution_count": 46,
   "id": "60cccf77",
   "metadata": {},
   "outputs": [],
   "source": [
    "from sklearn.metrics import ConfusionMatrixDisplay, confusion_matrix\n",
    "\n",
    "def find_best_threshold(precisions, recalls, thresholds, beta=2.):\n",
    "    best_fb = -np.inf\n",
    "    best_t = None\n",
    "    for t, p, r in zip(thresholds, precisions, recalls):\n",
    "        fb = fbeta(p, r, beta=beta)\n",
    "        if fb > best_fb:\n",
    "            best_t = t\n",
    "            best_fb = fb\n",
    "\n",
    "    return best_fb, best_t"
   ]
  },
  {
   "cell_type": "code",
   "execution_count": 53,
   "id": "4234b303",
   "metadata": {},
   "outputs": [
    {
     "name": "stdout",
     "output_type": "stream",
     "text": [
      "0.9170434440731275 0.05\n",
      "Confusion matrix\n"
     ]
    },
    {
     "data": {
      "image/png": "[encoded data removed]",
      "text/plain": [
       "<Figure size 640x480 with 2 Axes>"
      ]
     },
     "metadata": {},
     "output_type": "display_data"
    },
    {
     "data": {
      "image/png": "[encoded data removed]",
      "text/plain": [
       "<Figure size 640x480 with 2 Axes>"
      ]
     },
     "metadata": {},
     "output_type": "display_data"
    }
   ],
   "source": [
    "best_fb, best_t = find_best_threshold(precisions, recalls, thresholds, beta=2.)\n",
    "print(best_fb, best_t)\n",
    "\n",
    "selected_threshold = best_fb\n",
    "\n",
    "print(\"Confusion matrix\")\n",
    "\n",
    "y_pred_classes = y_pred_probas > best_fb\n",
    "\n",
    "cm = confusion_matrix(y_true, y_pred_classes)\n",
    "\n",
    "disp = ConfusionMatrixDisplay(\n",
    "    confusion_matrix=cm, display_labels=[\"background\", \"aircraft\"]\n",
    ")\n",
    "disp.plot()\n",
    "plt.title(\"CM best_fb\")\n",
    "\n",
    "y_pred_classes = y_pred_probas > best_t\n",
    "\n",
    "cm = confusion_matrix(y_true, y_pred_classes)\n",
    "\n",
    "\n",
    "disp = ConfusionMatrixDisplay(\n",
    "    confusion_matrix=cm, display_labels=[\"background\", \"aircraft\"]\n",
    ")\n",
    "disp.plot()\n",
    "plt.title(\"CM best_t\")\n",
    "\n",
    "plt.show()"
   ]
  },
  {
   "cell_type": "markdown",
   "id": "e52e5132",
   "metadata": {},
   "source": [
    "### Plot \"hard\" examples\n",
    "\n",
    "- Plot some of the missclassified examples that have true label = 0: Those are false positives\n",
    "- Plot some of the missclassified examples that have true label = 1: those are false negatives (misses)\n",
    "\n",
    "Can you interpret the false positives ?\n",
    "\n",
    "Example for False Positives \n",
    "\n",
    "```python\n",
    "misclassified_idxs = np.where(y_pred_classes == 1 && y_true == 0)[0]\n",
    "\n",
    "\n",
    "print(len(misclassified_idxs))\n",
    "\n",
    "print(misclassified_idxs)\n",
    "\n",
    "misclassified_images = test_images[misclassified_idxs]\n",
    "misclassified_true_labels = test_labels[misclassified_idxs]\n",
    "misclassified_pred_labels = y_pred_classes[misclassified_idxs]\n",
    "\n",
    "grid_size = 4\n",
    "grid = np.zeros((grid_size * 64, grid_size * 64, 3)).astype(np.uint8)\n",
    "for i in range(grid_size):\n",
    "    for j in range(grid_size):\n",
    "        img = np.copy(misclassified_images[i * grid_size + j])\n",
    "        pred = np.copy(misclassified_pred_labels[i * grid_size + j])\n",
    "        color = (0, 255, 0) if pred == 1 else (255, 0, 0)\n",
    "        tile = cv2.rectangle(img, (0, 0), (64, 64), color, thickness=2)\n",
    "        grid[i * 64 : (i + 1) * 64, j * 64 : (j + 1) * 64, :] = img\n",
    "\n",
    "fig = plt.figure(figsize=(10, 10))\n",
    "ax = fig.add_subplot(1, 1, 1)\n",
    "ax.imshow(grid)\n",
    "plt.show()\n",
    "```"
   ]
  },
  {
   "cell_type": "code",
   "execution_count": 56,
   "id": "34107a9a",
   "metadata": {},
   "outputs": [
    {
     "ename": "ValueError",
     "evalue": "The truth value of an array with more than one element is ambiguous. Use a.any() or a.all()",
     "output_type": "error",
     "traceback": [
      "\u001b[0;31m---------------------------------------------------------------------------\u001b[0m",
      "\u001b[0;31mValueError\u001b[0m                                Traceback (most recent call last)",
      "Cell \u001b[0;32mIn [56], line 2\u001b[0m\n\u001b[1;32m      1\u001b[0m \u001b[38;5;66;03m# Do it here!\u001b[39;00m\n\u001b[0;32m----> 2\u001b[0m misclassified_idxs \u001b[38;5;241m=\u001b[39m np\u001b[38;5;241m.\u001b[39mwhere(y_pred_classes \u001b[38;5;241m==\u001b[39m \u001b[38;5;241m1\u001b[39m \u001b[38;5;241m&\u001b[39m y_true \u001b[38;5;241m==\u001b[39m \u001b[38;5;241m0\u001b[39m)[\u001b[38;5;241m0\u001b[39m]\n\u001b[1;32m      5\u001b[0m \u001b[38;5;28mprint\u001b[39m(\u001b[38;5;28mlen\u001b[39m(misclassified_idxs))\n\u001b[1;32m      7\u001b[0m \u001b[38;5;28mprint\u001b[39m(misclassified_idxs)\n",
      "\u001b[0;31mValueError\u001b[0m: The truth value of an array with more than one element is ambiguous. Use a.any() or a.all()"
     ]
    }
   ],
   "source": [
    "# Do it here!\n",
    "misclassified_idxs = np.where(y_pred_classes == 1 && y_true == 0)[0]\n",
    "\n",
    "\n",
    "print(len(misclassified_idxs))\n",
    "\n",
    "print(misclassified_idxs)\n",
    "\n",
    "misclassified_images = test_images[misclassified_idxs]\n",
    "misclassified_true_labels = test_labels[misclassified_idxs]\n",
    "misclassified_pred_labels = y_pred_classes[misclassified_idxs]\n",
    "\n",
    "grid_size = 4\n",
    "grid = np.zeros((grid_size * 64, grid_size * 64, 3)).astype(np.uint8)\n",
    "for i in range(grid_size):\n",
    "    for j in range(grid_size):\n",
    "        img = np.copy(misclassified_images[i * grid_size + j])\n",
    "        pred = np.copy(misclassified_pred_labels[i * grid_size + j])\n",
    "        color = (0, 255, 0) if pred == 1 else (255, 0, 0)\n",
    "        tile = cv2.rectangle(img, (0, 0), (64, 64), color, thickness=2)\n",
    "        grid[i * 64 : (i + 1) * 64, j * 64 : (j + 1) * 64, :] = img\n",
    "\n",
    "fig = plt.figure(figsize=(10, 10))\n",
    "ax = fig.add_subplot(1, 1, 1)\n",
    "ax.imshow(grid)\n",
    "plt.show()"
   ]
  },
  {
   "cell_type": "markdown",
   "id": "6f107c39",
   "metadata": {},
   "source": [
    "## Q2. Class Imbalance\n",
    "\n",
    "We will try several things below. Those steps are only indicative and you are free to pursue other means of improving your model.\n",
    "\n",
    "Should you be lost, we refer you to the excellent \"A Recipe for Training Neural Networks\" article : https://karpathy.github.io/2019/04/25/recipe/\n",
    "\n",
    "![image.png](docs/static/img/mlsystem.png)"
   ]
  },
  {
   "cell_type": "markdown",
   "id": "465c9a93",
   "metadata": {},
   "source": [
    "### a. Tackling the imbalanced data problem\n",
    "\n",
    "Go through your data: is the dataset balanced ? If now, which steps can I do to solve this imbalance problem ?\n",
    "\n",
    "- Which step would you take ?\n",
    "- **Don't forget to apply the same step on you train and validation dataset** but **not on your test set** as your test set should represent the final data distribution\n",
    "\n",
    "Try to decide and a method to modify only the dataset and rerun your training. Did performance improve ?\n",
    "\n",
    "\n",
    "HINT:\n",
    "- It's usually a mix of **oversampling** the minority class and **undersampling** the majority class\n",
    "\n",
    "Some readings:\n",
    "- https://www.kaggle.com/rafjaa/resampling-strategies-for-imbalanced-datasets (very well done)\n",
    "- https://machinelearningmastery.com/framework-for-imbalanced-classification-projects/ (a bigger synthesis)\n",
    "- https://machinelearningmastery.com/category/imbalanced-classification/\n",
    "\n",
    "Hint to get you started\n",
    "```python\n",
    "background_indexes = np.where(trainval_labels == 0)\n",
    "foreground_indexes = np.where(trainval_labels == 1)\n",
    "\n",
    "# Maybe select the same number of background and foreground classes to put into your training / validation set ?\n",
    "```"
   ]
  },
  {
   "cell_type": "code",
   "execution_count": null,
   "id": "facbe1da",
   "metadata": {},
   "outputs": [],
   "source": [
    "# Q2.a here"
   ]
  },
  {
   "cell_type": "markdown",
   "id": "4b8c2003",
   "metadata": {},
   "source": [
    "### b. Hard Example Mining\n",
    "\n",
    "Another solution is called \"hard example mining\" : You could balance your dataset like before, but this time do it \"intelligently\", for example by selecting false positives and false negatives. Those are \"hard examples\",\n",
    "\n",
    "Usually we also put \"easy examples\" otherwise our dataset may be very biased\n",
    "\n",
    "<img src=\"https://encrypted-tbn0.gstatic.com/images?q=tbn:ANd9GcTA35C_SgBtMsS1bt_VR7HC2vDaK8zIlIyw9w&usqp=CAU\" alt=\"drawing\" width=\"400\"/>\n",
    "\n",
    "You can see this effect easily on a confusion matrix :\n",
    "\n",
    "<img src=\"https://miro.medium.com/max/2102/1*fxiTNIgOyvAombPJx5KGeA.png\" alt=\"drawing\" width=\"400\"/>\n",
    "\n",
    "If you want to rebalance your dataset by undersampling the 0 class, why not selecting more false positives than true negatives ?\n",
    "\n",
    "**Try it !**"
   ]
  },
  {
   "cell_type": "code",
   "execution_count": null,
   "id": "3284fd1c",
   "metadata": {},
   "outputs": [],
   "source": []
  },
  {
   "cell_type": "markdown",
   "id": "56f597fa",
   "metadata": {},
   "source": [
    "## Q3. **Optional** Exercises to run at home to improve your training\n",
    "\n",
    "### a. Optimizer and other hyperparameters modifications\n",
    "\n",
    "i ) Now that you have worked on your dataset and decided to undersample it, it's time to tune your network and your training configuration\n",
    "\n",
    "In Session 1, you tested two different optimizers. What is the effect of its modification? Apply it to your training and compare metrics.\n",
    "\n",
    "ii ) An other important parameter is the learning rate, you can [check its effect on the behavior of your training](https://developers.google.com/machine-learning/crash-course/fitter/graph)."
   ]
  },
  {
   "cell_type": "code",
   "execution_count": null,
   "id": "47e17d41",
   "metadata": {},
   "outputs": [],
   "source": []
  },
  {
   "cell_type": "markdown",
   "id": "d20ebfdf",
   "metadata": {},
   "source": [
    "### b. Going Further with hyperparameters tuning\n",
    "\n",
    "Here is an overview of [possible hyperparameter tuning when training Convolutional Neural Networks](https://towardsdatascience.com/hyper-parameter-tuning-techniques-in-deep-learning-4dad592c63c8)\n",
    "\n",
    "You can try and apply those techniques to your use case.\n",
    "\n",
    "- Does these techniques yield good results ? What about the effort-spent-for-performance ratio ?\n",
    "- Do you find it easy to keep track of your experiments ?\n",
    "- What would you need to have a better overview of the effects of these search ?\n",
    "\n",
    "Don't spend too much time on this part as the next is more important. You can come back to it after you're finished"
   ]
  },
  {
   "cell_type": "code",
   "execution_count": null,
   "id": "39cfae6c",
   "metadata": {},
   "outputs": [],
   "source": [
    "# Q2.c here"
   ]
  },
  {
   "cell_type": "markdown",
   "id": "2dbc8b3c",
   "metadata": {},
   "source": [
    "### c. Model architecture modification\n",
    "\n",
    "There are no absolute law concerning the structure of your deep Learning model. During the [Deep Learning class](%matplotlib inline) you had an overview of existing models\n",
    "\n",
    "You can operate a modification on your structure and observe the effect on final metrics. Of course, remain consistent with credible models, cf Layer Patterns chapter on this \"must view\" course : http://cs231n.github.io/convolutional-networks/\n",
    "\n",
    "<img src=\"https://github.com/fchouteau/isae-practical-deep-learning/blob/master/docs/static/img/comparison_architectures.png?raw=true\" alt=\"pokemon\" style=\"width: 400px;\"/>\n",
    "\n",
    "\n",
    "You can also use off the shelf architecture provided by torchvision, for example:\n",
    "\n",
    "```python\n",
    "import torchvision.models\n",
    "\n",
    "resnet18 = torchvision.models.resnet18(num_classes=2)\n",
    "```\n",
    "\n",
    "You can also use [transfer learning](https://machinelearningmastery.com/transfer-learning-for-deep-learning/) to \"finetune\" already trained features on your dataset\n",
    "\n",
    "[Please refer to this example on transfer learning](https://nbviewer.jupyter.org/github/pytorch/ignite/blob/master/examples/notebooks/EfficientNet_Cifar100_finetuning.ipynb)"
   ]
  },
  {
   "cell_type": "code",
   "execution_count": null,
   "id": "88f48733",
   "metadata": {},
   "outputs": [],
   "source": []
  },
  {
   "cell_type": "markdown",
   "id": "784b58ed",
   "metadata": {},
   "source": [
    "### d. Full Test whole dataset\n",
    "\n",
    "a. Now that you have optimised your structure for your dataset, you will apply your model to the test dataset to see the final metrics. Plot all your metrics using the full imbalanced test set. Is it good enough ?\n",
    "If you think so, you can apply it to new images using the sliding window technique with the 3rd notebook\n",
    "\n",
    "- Did it bring any improvements ?"
   ]
  },
  {
   "cell_type": "code",
   "execution_count": null,
   "id": "4053e2c9",
   "metadata": {},
   "outputs": [],
   "source": [
    "# Q3a"
   ]
  },
  {
   "cell_type": "markdown",
   "id": "f5e3a2e6",
   "metadata": {},
   "source": [
    "### e. Training on hard examples\n",
    "\n",
    "If you're not satisfied with the output of your model, consider the following idea: Training a new model with the failures of your previous model.\n",
    "Try the following:\n",
    "- Get all the images with the \"aircraft\" label\n",
    "- Get all the images with the \"background\" label where your best model was wrong (predicted aircraft), as well as some of the background where it was right.\n",
    "- Train a new model or retrain your existing one on this dataset.\n"
   ]
  },
  {
   "cell_type": "code",
   "execution_count": null,
   "id": "9d192421",
   "metadata": {},
   "outputs": [],
   "source": [
    "# Q3b"
   ]
  },
  {
   "cell_type": "markdown",
   "id": "a690d795",
   "metadata": {},
   "source": [
    "### f. **SAVE YOUR MODEL**"
   ]
  },
  {
   "cell_type": "code",
   "execution_count": null,
   "id": "2fe5d60d",
   "metadata": {},
   "outputs": [],
   "source": [
    "# Q3c"
   ]
  },
  {
   "cell_type": "markdown",
   "id": "20721103",
   "metadata": {},
   "source": [
    "**Have you saved your model ??** You will need it for the next notebook"
   ]
  }
 ],
 "metadata": {
  "jupytext": {
   "cell_metadata_json": true,
   "formats": "ipynb,py:percent"
  },
  "kernelspec": {
   "display_name": "Python 3 (ipykernel)",
   "language": "python",
   "name": "python3"
  },
  "language_info": {
   "codemirror_mode": {
    "name": "ipython",
    "version": 3
   },
   "file_extension": ".py",
   "mimetype": "text/x-python",
   "name": "python",
   "nbconvert_exporter": "python",
   "pygments_lexer": "ipython3",
   "version": "3.8.10"
  }
 },
 "nbformat": 4,
 "nbformat_minor": 5
}
